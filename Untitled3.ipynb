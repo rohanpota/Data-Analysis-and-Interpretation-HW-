{
 "cells": [
  {
   "cell_type": "code",
   "execution_count": 1,
   "metadata": {
    "collapsed": true
   },
   "outputs": [],
   "source": [
    "import pandas as pd\n",
    "import numpy as np\n",
    "import statsmodels.formula.api as smf\n",
    "import statsmodels.stats.multicomp as multi"
   ]
  },
  {
   "cell_type": "code",
   "execution_count": 2,
   "metadata": {
    "collapsed": false
   },
   "outputs": [],
   "source": [
    "data = pd.read_csv('gapminder.csv', low_memory=False)"
   ]
  },
  {
   "cell_type": "code",
   "execution_count": 3,
   "metadata": {
    "collapsed": false
   },
   "outputs": [],
   "source": [
    "#setting variables I will be working with to numeric\n",
    "data['incomeperperson'] = data['incomeperperson'].convert_objects(convert_numeric=True)\n",
    "data['alcconsumption'] = data['alcconsumption'].convert_objects(convert_numeric=True)\n",
    "data['co2emissions'] = data['co2emissions'].convert_objects(convert_numeric=True)\n",
    "data['employrate'] = data['employrate'].convert_objects(convert_numeric=True)\n",
    "data['suicideper100th'] = data['suicideper100th'].convert_objects(convert_numeric=True)\n",
    "data['polityscore'] = data['polityscore'].convert_objects(convert_numeric=True)\n",
    "data['lifeexpectancy'] = data['lifeexpectancy'].convert_objects(convert_numeric=True)\n",
    "recode1 = {-10:0,-9:0.5,-8:1,-7:1.5,-6:2,-5:2.5,-4:3,-3:3.5,-2:4,-1:4.5,0:5,1:5.5,2:6,3:6.5,4:7,5:7.5,6:8,7:8.5,8:9,9:9.5,10:10}\n",
    "data['polityscore']= data['polityscore'].map(recode1)\n",
    "data['breastcancerper100th'] = data['breastcancerper100th'].convert_objects(convert_numeric=True)\n",
    "data['hivrate'] = data['hivrate'].convert_objects(convert_numeric=True)\n",
    "data['chthrate']=data['breastcancerper100th']+data['hivrate']"
   ]
  },
  {
   "cell_type": "code",
   "execution_count": 4,
   "metadata": {
    "collapsed": true
   },
   "outputs": [],
   "source": [
    "data=data.dropna()"
   ]
  },
  {
   "cell_type": "code",
   "execution_count": 6,
   "metadata": {
    "collapsed": false
   },
   "outputs": [],
   "source": [
    "data['lifeexpectancy'] = data.lifeexpectancy.astype(np.object)"
   ]
  },
  {
   "cell_type": "code",
   "execution_count": 7,
   "metadata": {
    "collapsed": false
   },
   "outputs": [],
   "source": [
    "data['lifeexpectancy']=pd.cut(data['lifeexpectancy'], 5)"
   ]
  },
  {
   "cell_type": "code",
   "execution_count": 13,
   "metadata": {
    "collapsed": false
   },
   "outputs": [
    {
     "name": "stdout",
     "output_type": "stream",
     "text": [
      "            Multiple Comparison of Means - Tukey HSD,FWER=0.05           \n",
      "=========================================================================\n",
      "     group1           group2       meandiff    lower      upper    reject\n",
      "-------------------------------------------------------------------------\n",
      "(47.758, 54.914] (54.914, 62.034] -785.3455  -6198.8619 4628.1709  False \n",
      "(47.758, 54.914] (62.034, 69.154] -109.6499  -5006.3598  4787.06   False \n",
      "(47.758, 54.914] (69.154, 76.274] 2325.7483  -1963.9536 6615.4502  False \n",
      "(47.758, 54.914] (76.274, 83.394] 20405.8416 15914.5419 24897.1413  True \n",
      "(54.914, 62.034] (62.034, 69.154]  675.6956  -4631.315  5982.7062  False \n",
      "(54.914, 62.034] (69.154, 76.274] 3111.0938  -1641.604  7863.7916  False \n",
      "(54.914, 62.034] (76.274, 83.394] 21191.1871 16255.7675 26126.6067  True \n",
      "(62.034, 69.154] (69.154, 76.274] 2435.3982  -1719.0866  6589.883  False \n",
      "(62.034, 69.154] (76.274, 83.394] 20515.4915 16153.1556 24877.8274  True \n",
      "(69.154, 76.274] (76.274, 83.394] 18080.0933 14412.158  21748.0286  True \n",
      "-------------------------------------------------------------------------\n"
     ]
    }
   ],
   "source": [
    "mc1 = multi.MultiComparison(data['incomeperperson'],data['lifeexpectancy'])\n",
    "res1 = mc1.tukeyhsd()\n",
    "print(res1.summary())"
   ]
  },
  {
   "cell_type": "code",
   "execution_count": 14,
   "metadata": {
    "collapsed": false
   },
   "outputs": [
    {
     "name": "stdout",
     "output_type": "stream",
     "text": [
      "        Multiple Comparison of Means - Tukey HSD,FWER=0.05       \n",
      "=================================================================\n",
      "     group1           group2      meandiff  lower   upper  reject\n",
      "-----------------------------------------------------------------\n",
      "(47.758, 54.914] (54.914, 62.034] -1.9428  -6.4596  2.5739 False \n",
      "(47.758, 54.914] (62.034, 69.154] -0.1142  -4.1998  3.9713 False \n",
      "(47.758, 54.914] (69.154, 76.274]  1.828    -1.751  5.4071 False \n",
      "(47.758, 54.914] (76.274, 83.394]  4.5797   0.8324  8.327   True \n",
      "(54.914, 62.034] (62.034, 69.154]  1.8286  -2.5993  6.2565 False \n",
      "(54.914, 62.034] (69.154, 76.274]  3.7709  -0.1945  7.7362 False \n",
      "(54.914, 62.034] (76.274, 83.394]  6.5225   2.4047 10.6404  True \n",
      "(62.034, 69.154] (69.154, 76.274]  1.9423   -1.524  5.4085 False \n",
      "(62.034, 69.154] (76.274, 83.394]  4.6939   1.0543  8.3336  True \n",
      "(69.154, 76.274] (76.274, 83.394]  2.7517  -0.3086  5.812  False \n",
      "-----------------------------------------------------------------\n"
     ]
    }
   ],
   "source": [
    "mc1 = multi.MultiComparison(data['alcconsumption'],data['lifeexpectancy'])\n",
    "res1 = mc1.tukeyhsd()\n",
    "print(res1.summary())"
   ]
  },
  {
   "cell_type": "code",
   "execution_count": 15,
   "metadata": {
    "collapsed": false
   },
   "outputs": [
    {
     "name": "stdout",
     "output_type": "stream",
     "text": [
      "                 Multiple Comparison of Means - Tukey HSD,FWER=0.05                 \n",
      "====================================================================================\n",
      "     group1           group2         meandiff        lower          upper     reject\n",
      "------------------------------------------------------------------------------------\n",
      "(47.758, 54.914] (54.914, 62.034] -845752844.444 -29992642137.9 28301136449.0 False \n",
      "(47.758, 54.914] (62.034, 69.154]  2252381000.0  -24111972343.4 28616734343.4 False \n",
      "(47.758, 54.914] (69.154, 76.274] 3773104116.28  -19323060469.2 26869268701.8 False \n",
      "(47.758, 54.914] (76.274, 83.394] 19522935777.8  -4658650336.91 43704521892.5 False \n",
      "(54.914, 62.034] (62.034, 69.154] 3098133844.44  -25475317984.6 31671585673.5 False \n",
      "(54.914, 62.034] (69.154, 76.274] 4618856960.72  -20970121932.0 30207835853.5 False \n",
      "(54.914, 62.034] (76.274, 83.394] 20368688622.2  -6204081824.88 46941459069.3 False \n",
      "(62.034, 69.154] (69.154, 76.274] 1520723116.28  -20847419687.8 23888865920.3 False \n",
      "(62.034, 69.154] (76.274, 83.394] 17270554777.8  -6216677944.8  40757787500.4 False \n",
      "(69.154, 76.274] (76.274, 83.394] 15749831661.5  -3998682011.93 35498345334.9 False \n",
      "------------------------------------------------------------------------------------\n"
     ]
    }
   ],
   "source": [
    "mc1 = multi.MultiComparison(data['co2emissions'],data['lifeexpectancy'])\n",
    "res1 = mc1.tukeyhsd()\n",
    "print(res1.summary())"
   ]
  },
  {
   "cell_type": "code",
   "execution_count": 16,
   "metadata": {
    "collapsed": false
   },
   "outputs": [
    {
     "name": "stdout",
     "output_type": "stream",
     "text": [
      "        Multiple Comparison of Means - Tukey HSD,FWER=0.05        \n",
      "==================================================================\n",
      "     group1           group2      meandiff  lower    upper  reject\n",
      "------------------------------------------------------------------\n",
      "(47.758, 54.914] (54.914, 62.034]  2.5383  -6.1621  11.2388 False \n",
      "(47.758, 54.914] (62.034, 69.154] -2.5405  -10.4103  5.3294 False \n",
      "(47.758, 54.914] (69.154, 76.274] -8.6787  -15.573  -1.7844  True \n",
      "(47.758, 54.914] (76.274, 83.394] -6.5526  -13.7709  0.6657 False \n",
      "(54.914, 62.034] (62.034, 69.154] -5.0788  -13.6081  3.4505 False \n",
      "(54.914, 62.034] (69.154, 76.274] -11.2171 -18.8555 -3.5786  True \n",
      "(54.914, 62.034] (76.274, 83.394] -9.0909  -17.023  -1.1588  True \n",
      "(62.034, 69.154] (69.154, 76.274] -6.1383  -12.8152  0.5387 False \n",
      "(62.034, 69.154] (76.274, 83.394] -4.0121  -11.0232  2.9989 False \n",
      "(69.154, 76.274] (76.274, 83.394]  2.1261  -3.7689   8.0212 False \n",
      "------------------------------------------------------------------\n"
     ]
    }
   ],
   "source": [
    "mc1 = multi.MultiComparison(data['employrate'],data['lifeexpectancy'])\n",
    "res1 = mc1.tukeyhsd()\n",
    "print(res1.summary())"
   ]
  },
  {
   "cell_type": "code",
   "execution_count": 17,
   "metadata": {
    "collapsed": false
   },
   "outputs": [
    {
     "name": "stdout",
     "output_type": "stream",
     "text": [
      "       Multiple Comparison of Means - Tukey HSD,FWER=0.05       \n",
      "================================================================\n",
      "     group1           group2      meandiff  lower  upper  reject\n",
      "----------------------------------------------------------------\n",
      "(47.758, 54.914] (54.914, 62.034] -1.7648  -7.9242 4.3945 False \n",
      "(47.758, 54.914] (62.034, 69.154]  0.5214  -5.0499 6.0928 False \n",
      "(47.758, 54.914] (69.154, 76.274] -1.0519  -5.9326 3.8288 False \n",
      "(47.758, 54.914] (76.274, 83.394] -0.3146  -5.4247 4.7955 False \n",
      "(54.914, 62.034] (62.034, 69.154]  2.2862  -3.7519 8.3244 False \n",
      "(54.914, 62.034] (69.154, 76.274]  0.7129  -4.6946 6.1204 False \n",
      "(54.914, 62.034] (76.274, 83.394]  1.4502  -4.1651 7.0656 False \n",
      "(62.034, 69.154] (69.154, 76.274] -1.5733  -6.3002 3.1535 False \n",
      "(62.034, 69.154] (76.274, 83.394]  -0.836  -5.7994 4.1274 False \n",
      "(69.154, 76.274] (76.274, 83.394]  0.7373  -3.4359 4.9106 False \n",
      "----------------------------------------------------------------\n"
     ]
    }
   ],
   "source": [
    "mc1 = multi.MultiComparison(data['suicideper100th'],data['lifeexpectancy'])\n",
    "res1 = mc1.tukeyhsd()\n",
    "print(res1.summary())"
   ]
  },
  {
   "cell_type": "code",
   "execution_count": 18,
   "metadata": {
    "collapsed": false
   },
   "outputs": [
    {
     "name": "stdout",
     "output_type": "stream",
     "text": [
      "       Multiple Comparison of Means - Tukey HSD,FWER=0.05       \n",
      "================================================================\n",
      "     group1           group2      meandiff  lower  upper  reject\n",
      "----------------------------------------------------------------\n",
      "(47.758, 54.914] (54.914, 62.034]  -0.75   -3.3254 1.8254 False \n",
      "(47.758, 54.914] (62.034, 69.154]  0.5955  -1.7341 2.925  False \n",
      "(47.758, 54.914] (69.154, 76.274]  1.2942  -0.7466 3.3349 False \n",
      "(47.758, 54.914] (76.274, 83.394]  3.1561   1.0194 5.2927  True \n",
      "(54.914, 62.034] (62.034, 69.154]  1.3455  -1.1793 3.8702 False \n",
      "(54.914, 62.034] (69.154, 76.274]  2.0442  -0.2168 4.3052 False \n",
      "(54.914, 62.034] (76.274, 83.394]  3.9061   1.5581 6.254   True \n",
      "(62.034, 69.154] (69.154, 76.274]  0.6987  -1.2777 2.6752 False \n",
      "(62.034, 69.154] (76.274, 83.394]  2.5606   0.4853 4.6359  True \n",
      "(69.154, 76.274] (76.274, 83.394]  1.8619   0.1169 3.6068  True \n",
      "----------------------------------------------------------------\n"
     ]
    }
   ],
   "source": [
    "mc1 = multi.MultiComparison(data['polityscore'],data['lifeexpectancy'])\n",
    "res1 = mc1.tukeyhsd()\n",
    "print(res1.summary())"
   ]
  },
  {
   "cell_type": "code",
   "execution_count": 19,
   "metadata": {
    "collapsed": false
   },
   "outputs": [
    {
     "name": "stdout",
     "output_type": "stream",
     "text": [
      "        Multiple Comparison of Means - Tukey HSD,FWER=0.05        \n",
      "==================================================================\n",
      "     group1           group2      meandiff  lower    upper  reject\n",
      "------------------------------------------------------------------\n",
      "(47.758, 54.914] (54.914, 62.034] -4.8267   -19.76  10.1067 False \n",
      "(47.758, 54.914] (62.034, 69.154] -3.5245  -17.0323  9.9832 False \n",
      "(47.758, 54.914] (69.154, 76.274]  5.8705  -5.9628  17.7037 False \n",
      "(47.758, 54.914] (76.274, 83.394]  38.76   26.3706  51.1494  True \n",
      "(54.914, 62.034] (62.034, 69.154]  1.3021  -13.3374 15.9417 False \n",
      "(54.914, 62.034] (69.154, 76.274] 10.6971  -2.4133  23.8076 False \n",
      "(54.914, 62.034] (76.274, 83.394] 43.5867  29.9722  57.2012  True \n",
      "(62.034, 69.154] (69.154, 76.274]  9.395   -2.0653  20.8553 False \n",
      "(62.034, 69.154] (76.274, 83.394] 42.2845  30.2509  54.3182  True \n",
      "(69.154, 76.274] (76.274, 83.394] 32.8895  22.7714  43.0076  True \n",
      "------------------------------------------------------------------\n"
     ]
    }
   ],
   "source": [
    "mc1 = multi.MultiComparison(data['chthrate'],data['lifeexpectancy'])\n",
    "res1 = mc1.tukeyhsd()\n",
    "print(res1.summary())"
   ]
  },
  {
   "cell_type": "code",
   "execution_count": null,
   "metadata": {
    "collapsed": true
   },
   "outputs": [],
   "source": []
  }
 ],
 "metadata": {
  "kernelspec": {
   "display_name": "Python 2",
   "language": "python",
   "name": "python2"
  },
  "language_info": {
   "codemirror_mode": {
    "name": "ipython",
    "version": 2
   },
   "file_extension": ".py",
   "mimetype": "text/x-python",
   "name": "python",
   "nbconvert_exporter": "python",
   "pygments_lexer": "ipython2",
   "version": "2.7.10"
  }
 },
 "nbformat": 4,
 "nbformat_minor": 0
}
