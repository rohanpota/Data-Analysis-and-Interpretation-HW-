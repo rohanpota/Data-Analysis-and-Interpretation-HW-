{
 "cells": [
  {
   "cell_type": "code",
   "execution_count": 107,
   "metadata": {
    "collapsed": false
   },
   "outputs": [],
   "source": [
    "import pandas as pd\n",
    "import numpy as np\n",
    "import matplotlib\n",
    "matplotlib.style.use('ggplot')\n"
   ]
  },
  {
   "cell_type": "code",
   "execution_count": 97,
   "metadata": {
    "collapsed": false
   },
   "outputs": [],
   "source": [
    "data = pd.read_csv('gapminder.csv', low_memory=False)"
   ]
  },
  {
   "cell_type": "code",
   "execution_count": 7,
   "metadata": {
    "collapsed": false
   },
   "outputs": [
    {
     "name": "stdout",
     "output_type": "stream",
     "text": [
      "213\n",
      "16\n"
     ]
    }
   ],
   "source": [
    "print (len(data)) #number of observations (rows)\n",
    "print (len(data.columns)) # number of variables (columns)"
   ]
  },
  {
   "cell_type": "code",
   "execution_count": 98,
   "metadata": {
    "collapsed": false
   },
   "outputs": [],
   "source": [
    "#setting variables I will be working with to numeric\n",
    "data['incomeperperson'] = data['incomeperperson'].convert_objects(convert_numeric=True)\n",
    "data['alcconsumption'] = data['alcconsumption'].convert_objects(convert_numeric=True)\n",
    "data['co2emissions'] = data['co2emissions'].convert_objects(convert_numeric=True)\n",
    "data['employrate'] = data['employrate'].convert_objects(convert_numeric=True)\n",
    "data['suicideper100th'] = data['suicideper100th'].convert_objects(convert_numeric=True)\n",
    "data['polityscore'] = data['polityscore'].convert_objects(convert_numeric=True)\n",
    "data['lifeexpectancy'] = data['lifeexpectancy'].convert_objects(convert_numeric=True)"
   ]
  },
  {
   "cell_type": "code",
   "execution_count": 99,
   "metadata": {
    "collapsed": false
   },
   "outputs": [],
   "source": [
    "#Handling Missing Data\n",
    "#In order to handle missing data such NaN or or a blank entry,I am substituting them with 0\n",
    "#The applymap function applies a function to every cell of the dataframe,and wherever there is a blank entry\n",
    "#(i.e a missing entry),it fills it with NaN value.After that,fillna replaces all NaN values with zero\n",
    "data = data.applymap(lambda x: np.nan if isinstance(x, basestring) and x.isspace() else x) \n",
    "data=data.fillna(0)"
   ]
  },
  {
   "cell_type": "code",
   "execution_count": 110,
   "metadata": {
    "collapsed": false
   },
   "outputs": [
    {
     "data": {
      "text/plain": [
       "<matplotlib.text.Text at 0x7f0d1e410250>"
      ]
     },
     "execution_count": 110,
     "metadata": {},
     "output_type": "execute_result"
    },
    {
     "data": {
      "image/png": "[encoded data removed]",
      "text/plain": [
       "<matplotlib.figure.Figure at 0x7f0d1e2dc290>"
      ]
     },
     "metadata": {},
     "output_type": "display_data"
    }
   ],
   "source": [
    "ax=data['incomeperperson'].plot(kind='hist',bins=100)\n",
    "ax.set_xlabel(\"Incomeperperson\")\n",
    "ax.set_ylabel(\"Frequency\")"
   ]
  },
  {
   "cell_type": "code",
   "execution_count": 114,
   "metadata": {
    "collapsed": false
   },
   "outputs": [
    {
     "name": "stdout",
     "output_type": "stream",
     "text": [
      "incomeperperson-2010 Gross Domestic Product per capita in constant 2000 US$.\n",
      "Overall statistical charecterstics\n",
      "----------------------------------\n",
      "count       213.000000\n",
      "mean       7797.105890\n",
      "std       13738.698119\n",
      "min           0.000000\n",
      "25%         456.385712\n",
      "50%        2161.546510\n",
      "75%        8445.526689\n",
      "max      105147.437697\n",
      "Name: incomeperperson, dtype: float64\n",
      "-x-x-x-x-x-x-x-x-x-x-x-x-x-x-x-x-x-\n",
      "Counts\n",
      "0.000000        23\n",
      "285.224449       1\n",
      "2712.517199      1\n",
      "21943.339898     1\n",
      "1036.830725      1\n",
      "557.947513       1\n",
      "9106.327234      1\n",
      "6243.571318      1\n",
      "5634.003948      1\n",
      "371.424198       1\n",
      "1383.401869      1\n",
      "4189.436587      1\n",
      "2437.282445      1\n",
      "1714.942890      1\n",
      "31993.200694     1\n",
      "558.062877       1\n",
      "2557.433638      1\n",
      "131.796207       1\n",
      "668.547943       1\n",
      "26551.844238     1\n",
      "4699.411262      1\n",
      "948.355952       1\n",
      "275.884287       1\n",
      "39972.352768     1\n",
      "358.979540       1\n",
      "2222.335052      1\n",
      "713.639303       1\n",
      "5182.143721      1\n",
      "33923.313868     1\n",
      "37662.751250     1\n",
      "                ..\n",
      "32535.832512     1\n",
      "8654.536845      1\n",
      "1914.996551      1\n",
      "6575.745044      1\n",
      "1143.831514      1\n",
      "2344.896916      1\n",
      "16372.499781     1\n",
      "3180.430612      1\n",
      "736.268054       1\n",
      "3233.423780      1\n",
      "2636.787800      1\n",
      "268.259450       1\n",
      "5330.401612      1\n",
      "354.599726       1\n",
      "155.033231       1\n",
      "30532.277044     1\n",
      "26692.984107     1\n",
      "18982.269285     1\n",
      "8614.120219      1\n",
      "161.317137       1\n",
      "1860.753895      1\n",
      "1959.844472      1\n",
      "269.892881       1\n",
      "369.572954       1\n",
      "32292.482984     1\n",
      "468.696044       1\n",
      "14778.163929     1\n",
      "760.262365       1\n",
      "4885.046701      1\n",
      "1810.230533      1\n",
      "dtype: int64\n",
      "----------------------------------\n",
      "Percentages\n",
      "0.000000        0.107981\n",
      "285.224449      0.004695\n",
      "2712.517199     0.004695\n",
      "21943.339898    0.004695\n",
      "1036.830725     0.004695\n",
      "557.947513      0.004695\n",
      "9106.327234     0.004695\n",
      "6243.571318     0.004695\n",
      "5634.003948     0.004695\n",
      "371.424198      0.004695\n",
      "1383.401869     0.004695\n",
      "4189.436587     0.004695\n",
      "2437.282445     0.004695\n",
      "1714.942890     0.004695\n",
      "31993.200694    0.004695\n",
      "558.062877      0.004695\n",
      "2557.433638     0.004695\n",
      "131.796207      0.004695\n",
      "668.547943      0.004695\n",
      "26551.844238    0.004695\n",
      "4699.411262     0.004695\n",
      "948.355952      0.004695\n",
      "275.884287      0.004695\n",
      "39972.352768    0.004695\n",
      "358.979540      0.004695\n",
      "2222.335052     0.004695\n",
      "713.639303      0.004695\n",
      "5182.143721     0.004695\n",
      "33923.313868    0.004695\n",
      "37662.751250    0.004695\n",
      "                  ...   \n",
      "32535.832512    0.004695\n",
      "8654.536845     0.004695\n",
      "1914.996551     0.004695\n",
      "6575.745044     0.004695\n",
      "1143.831514     0.004695\n",
      "2344.896916     0.004695\n",
      "16372.499781    0.004695\n",
      "3180.430612     0.004695\n",
      "736.268054      0.004695\n",
      "3233.423780     0.004695\n",
      "2636.787800     0.004695\n",
      "268.259450      0.004695\n",
      "5330.401612     0.004695\n",
      "354.599726      0.004695\n",
      "155.033231      0.004695\n",
      "30532.277044    0.004695\n",
      "26692.984107    0.004695\n",
      "18982.269285    0.004695\n",
      "8614.120219     0.004695\n",
      "161.317137      0.004695\n",
      "1860.753895     0.004695\n",
      "1959.844472     0.004695\n",
      "269.892881      0.004695\n",
      "369.572954      0.004695\n",
      "32292.482984    0.004695\n",
      "468.696044      0.004695\n",
      "14778.163929    0.004695\n",
      "760.262365      0.004695\n",
      "4885.046701     0.004695\n",
      "1810.230533     0.004695\n",
      "dtype: float64\n",
      "-x-x-x-x-x-x-x-x-x-x-x-x-x-x-x-x-x-\n"
     ]
    }
   ],
   "source": [
    "print 'incomeperperson-2010 Gross Domestic Product per capita in constant 2000 US$.'\n",
    "print 'Overall statistical charecterstics'\n",
    "print '----------------------------------'\n",
    "print data['incomeperperson'].describe()\n",
    "print '-x-x-x-x-x-x-x-x-x-x-x-x-x-x-x-x-x-'\n",
    "print 'COUNTS'\n",
    "c1 = data['incomeperperson'].value_counts(sort=False)\n",
    "print (c1)\n",
    "print '----------------------------------'\n",
    "print 'PERCENTAGES'\n",
    "p1 = data['incomeperperson'].value_counts(sort=False, normalize=True)\n",
    "print (p1)\n",
    "print '-x-x-x-x-x-x-x-x-x-x-x-x-x-x-x-x-x-'\n"
   ]
  },
  {
   "cell_type": "code",
   "execution_count": 116,
   "metadata": {
    "collapsed": false
   },
   "outputs": [
    {
     "data": {
      "text/plain": [
       "<matplotlib.text.Text at 0x7f0d1dfca910>"
      ]
     },
     "execution_count": 116,
     "metadata": {},
     "output_type": "execute_result"
    },
    {
     "data": {
      "image/png": "[encoded data removed]",
      "text/plain": [
       "<matplotlib.figure.Figure at 0x7f0d1f714b90>"
      ]
     },
     "metadata": {},
     "output_type": "display_data"
    }
   ],
   "source": [
    "ax=data['alcconsumption'].plot(kind='hist',bins=100)\n",
    "ax.set_xlabel(\"AlcoholConsumption\")\n",
    "ax.set_ylabel(\"Frequency\")"
   ]
  },
  {
   "cell_type": "code",
   "execution_count": 136,
   "metadata": {
    "collapsed": false
   },
   "outputs": [
    {
     "name": "stdout",
     "output_type": "stream",
     "text": [
      "2008 alcohol consumption per adult (age 15+)\n",
      "Overall statistical charecterstics\n",
      "----------------------------------\n",
      "count    213.000000\n",
      "mean       5.872864\n",
      "std        5.087257\n",
      "min        0.000000\n",
      "25%        1.030000\n",
      "50%        5.000000\n",
      "75%        9.500000\n",
      "max       23.010000\n",
      "Name: alcconsumption, dtype: float64\n",
      "-x-x-x-x-x-x-x-x-x-x-x-x-x-x-x-x-x-\n",
      "COUNTS\n",
      "0.00     26\n",
      "5.25      1\n",
      "9.75      1\n",
      "0.50      1\n",
      "9.50      1\n",
      "3.90      1\n",
      "5.05      1\n",
      "3.56      1\n",
      "0.96      1\n",
      "3.61      1\n",
      "7.29      1\n",
      "7.38      1\n",
      "7.60      1\n",
      "15.00     1\n",
      "1.24      1\n",
      "4.98      1\n",
      "13.66     1\n",
      "6.16      1\n",
      "9.70      1\n",
      "5.78      1\n",
      "0.34      2\n",
      "3.53      1\n",
      "5.12      1\n",
      "8.68      1\n",
      "2.27      1\n",
      "8.35      1\n",
      "16.23     1\n",
      "0.87      1\n",
      "12.72     1\n",
      "2.08      1\n",
      "         ..\n",
      "13.45     1\n",
      "0.28      1\n",
      "0.54      1\n",
      "1.49      1\n",
      "18.85     1\n",
      "0.47      1\n",
      "12.14     1\n",
      "2.69      1\n",
      "7.10      1\n",
      "7.90      1\n",
      "13.31     1\n",
      "3.41      1\n",
      "16.12     1\n",
      "12.11     1\n",
      "12.84     1\n",
      "10.08     1\n",
      "6.66      1\n",
      "4.81      1\n",
      "14.43     1\n",
      "0.65      1\n",
      "0.92      1\n",
      "1.92      1\n",
      "4.71      1\n",
      "9.46      1\n",
      "10.41     1\n",
      "12.09     1\n",
      "9.48      1\n",
      "1.03      1\n",
      "3.64      1\n",
      "3.11      1\n",
      "dtype: int64\n",
      "----------------------------------\n",
      "PERCENTAGES\n",
      "0.00     0.122066\n",
      "5.25     0.004695\n",
      "9.75     0.004695\n",
      "0.50     0.004695\n",
      "9.50     0.004695\n",
      "3.90     0.004695\n",
      "5.05     0.004695\n",
      "3.56     0.004695\n",
      "0.96     0.004695\n",
      "3.61     0.004695\n",
      "7.29     0.004695\n",
      "7.38     0.004695\n",
      "7.60     0.004695\n",
      "15.00    0.004695\n",
      "1.24     0.004695\n",
      "4.98     0.004695\n",
      "13.66    0.004695\n",
      "6.16     0.004695\n",
      "9.70     0.004695\n",
      "5.78     0.004695\n",
      "0.34     0.009390\n",
      "3.53     0.004695\n",
      "5.12     0.004695\n",
      "8.68     0.004695\n",
      "2.27     0.004695\n",
      "8.35     0.004695\n",
      "16.23    0.004695\n",
      "0.87     0.004695\n",
      "12.72    0.004695\n",
      "2.08     0.004695\n",
      "           ...   \n",
      "13.45    0.004695\n",
      "0.28     0.004695\n",
      "0.54     0.004695\n",
      "1.49     0.004695\n",
      "18.85    0.004695\n",
      "0.47     0.004695\n",
      "12.14    0.004695\n",
      "2.69     0.004695\n",
      "7.10     0.004695\n",
      "7.90     0.004695\n",
      "13.31    0.004695\n",
      "3.41     0.004695\n",
      "16.12    0.004695\n",
      "12.11    0.004695\n",
      "12.84    0.004695\n",
      "10.08    0.004695\n",
      "6.66     0.004695\n",
      "4.81     0.004695\n",
      "14.43    0.004695\n",
      "0.65     0.004695\n",
      "0.92     0.004695\n",
      "1.92     0.004695\n",
      "4.71     0.004695\n",
      "9.46     0.004695\n",
      "10.41    0.004695\n",
      "12.09    0.004695\n",
      "9.48     0.004695\n",
      "1.03     0.004695\n",
      "3.64     0.004695\n",
      "3.11     0.004695\n",
      "dtype: float64\n",
      "-x-x-x-x-x-x-x-x-x-x-x-x-x-x-x-x-x-\n"
     ]
    }
   ],
   "source": [
    "print '2008 alcohol consumption per adult (age 15+)'\n",
    "print 'Overall statistical charecterstics'\n",
    "print '----------------------------------'\n",
    "print data['alcconsumption'].describe()\n",
    "print '-x-x-x-x-x-x-x-x-x-x-x-x-x-x-x-x-x-'\n",
    "print 'COUNTS'\n",
    "c1 = data['alcconsumption'].value_counts(sort=False)\n",
    "print (c1)\n",
    "print '----------------------------------'\n",
    "print 'PERCENTAGES'\n",
    "p1 = data['alcconsumption'].value_counts(sort=False, normalize=True)\n",
    "print (p1)\n",
    "print '-x-x-x-x-x-x-x-x-x-x-x-x-x-x-x-x-x-'\n"
   ]
  },
  {
   "cell_type": "code",
   "execution_count": 127,
   "metadata": {
    "collapsed": false
   },
   "outputs": [
    {
     "data": {
      "text/plain": [
       "<matplotlib.text.Text at 0x7f0d17c6ca50>"
      ]
     },
     "execution_count": 127,
     "metadata": {},
     "output_type": "execute_result"
    },
    {
     "data": {
      "image/png": "[encoded data removed]",
      "text/plain": [
       "<matplotlib.figure.Figure at 0x7f0d17d4d990>"
      ]
     },
     "metadata": {},
     "output_type": "display_data"
    }
   ],
   "source": [
    "ax=data['co2emissions'].plot(kind='hist',bins=200)\n",
    "ax.set_xlabel(\"CO2Emissions\")\n",
    "ax.set_ylabel(\"Frequency\")"
   ]
  },
  {
   "cell_type": "code",
   "execution_count": 135,
   "metadata": {
    "collapsed": false
   },
   "outputs": [
    {
     "name": "stdout",
     "output_type": "stream",
     "text": [
      "2006 cumulative CO2 emission (metric tons), Total amount of CO2 emission in metric tons since 1751.\n",
      "Overall statistical charecterstics\n",
      "----------------------------------\n",
      "count    2.130000e+02\n",
      "mean     4.726067e+09\n",
      "std      2.496573e+10\n",
      "min      0.000000e+00\n",
      "25%      2.133267e+07\n",
      "50%      1.484707e+08\n",
      "75%      1.712755e+09\n",
      "max      3.342209e+11\n",
      "Name: co2emissions, dtype: float64\n",
      "-x-x-x-x-x-x-x-x-x-x-x-x-x-x-x-x-x-\n",
      "COUNTS\n",
      "0.000000e+00    13\n",
      "1.045000e+06     1\n",
      "3.039132e+10     1\n",
      "1.835350e+08     1\n",
      "5.896389e+09     1\n",
      "1.405800e+07     1\n",
      "2.542063e+08     1\n",
      "1.206333e+06     1\n",
      "4.463653e+08     1\n",
      "7.104137e+09     1\n",
      "2.269806e+09     1\n",
      "6.710202e+09     1\n",
      "4.244009e+09     1\n",
      "9.026967e+07     1\n",
      "7.861553e+09     1\n",
      "3.899133e+07     1\n",
      "4.286590e+09     1\n",
      "5.872119e+09     1\n",
      "3.839733e+07     1\n",
      "1.375550e+08     1\n",
      "9.998743e+08     1\n",
      "2.348647e+08     1\n",
      "6.277700e+07     1\n",
      "7.315000e+06     1\n",
      "7.594400e+07     1\n",
      "1.096810e+08     1\n",
      "1.321661e+09     1\n",
      "5.616233e+07     1\n",
      "8.338000e+06     1\n",
      "4.541167e+07     1\n",
      "                ..\n",
      "8.231667e+06     1\n",
      "4.085767e+07     1\n",
      "2.251333e+06     1\n",
      "2.420301e+09     1\n",
      "1.484707e+08     1\n",
      "1.320257e+08     1\n",
      "1.980000e+07     1\n",
      "5.265700e+07     1\n",
      "3.659333e+06     1\n",
      "8.631700e+07     1\n",
      "5.313037e+08     1\n",
      "1.691800e+08     1\n",
      "3.229600e+08     1\n",
      "2.497905e+10     1\n",
      "1.882687e+08     1\n",
      "2.977333e+06     1\n",
      "1.111000e+06     1\n",
      "9.155667e+06     1\n",
      "2.670950e+09     1\n",
      "2.262553e+08     1\n",
      "2.135100e+07     1\n",
      "8.092333e+06     1\n",
      "2.305360e+10     1\n",
      "1.633779e+09     1\n",
      "5.920127e+08     1\n",
      "8.797067e+07     1\n",
      "2.421918e+09     1\n",
      "9.666892e+09     1\n",
      "3.795000e+07     1\n",
      "2.133267e+07     1\n",
      "dtype: int64\n",
      "----------------------------------\n",
      "PERCENTAGES\n",
      "0.000000e+00    0.061033\n",
      "1.045000e+06    0.004695\n",
      "3.039132e+10    0.004695\n",
      "1.835350e+08    0.004695\n",
      "5.896389e+09    0.004695\n",
      "1.405800e+07    0.004695\n",
      "2.542063e+08    0.004695\n",
      "1.206333e+06    0.004695\n",
      "4.463653e+08    0.004695\n",
      "7.104137e+09    0.004695\n",
      "2.269806e+09    0.004695\n",
      "6.710202e+09    0.004695\n",
      "4.244009e+09    0.004695\n",
      "9.026967e+07    0.004695\n",
      "7.861553e+09    0.004695\n",
      "3.899133e+07    0.004695\n",
      "4.286590e+09    0.004695\n",
      "5.872119e+09    0.004695\n",
      "3.839733e+07    0.004695\n",
      "1.375550e+08    0.004695\n",
      "9.998743e+08    0.004695\n",
      "2.348647e+08    0.004695\n",
      "6.277700e+07    0.004695\n",
      "7.315000e+06    0.004695\n",
      "7.594400e+07    0.004695\n",
      "1.096810e+08    0.004695\n",
      "1.321661e+09    0.004695\n",
      "5.616233e+07    0.004695\n",
      "8.338000e+06    0.004695\n",
      "4.541167e+07    0.004695\n",
      "                  ...   \n",
      "8.231667e+06    0.004695\n",
      "4.085767e+07    0.004695\n",
      "2.251333e+06    0.004695\n",
      "2.420301e+09    0.004695\n",
      "1.484707e+08    0.004695\n",
      "1.320257e+08    0.004695\n",
      "1.980000e+07    0.004695\n",
      "5.265700e+07    0.004695\n",
      "3.659333e+06    0.004695\n",
      "8.631700e+07    0.004695\n",
      "5.313037e+08    0.004695\n",
      "1.691800e+08    0.004695\n",
      "3.229600e+08    0.004695\n",
      "2.497905e+10    0.004695\n",
      "1.882687e+08    0.004695\n",
      "2.977333e+06    0.004695\n",
      "1.111000e+06    0.004695\n",
      "9.155667e+06    0.004695\n",
      "2.670950e+09    0.004695\n",
      "2.262553e+08    0.004695\n",
      "2.135100e+07    0.004695\n",
      "8.092333e+06    0.004695\n",
      "2.305360e+10    0.004695\n",
      "1.633779e+09    0.004695\n",
      "5.920127e+08    0.004695\n",
      "8.797067e+07    0.004695\n",
      "2.421918e+09    0.004695\n",
      "9.666892e+09    0.004695\n",
      "3.795000e+07    0.004695\n",
      "2.133267e+07    0.004695\n",
      "dtype: float64\n",
      "-x-x-x-x-x-x-x-x-x-x-x-x-x-x-x-x-x-\n"
     ]
    }
   ],
   "source": [
    "print '2006 cumulative CO2 emission (metric tons), Total amount of CO2 emission in metric tons since 1751.'\n",
    "print 'Overall statistical charecterstics'\n",
    "print '----------------------------------'\n",
    "print data['co2emissions'].describe()\n",
    "print '-x-x-x-x-x-x-x-x-x-x-x-x-x-x-x-x-x-'\n",
    "print 'COUNTS'\n",
    "c1 = data['co2emissions'].value_counts(sort=False)\n",
    "print (c1)\n",
    "print '----------------------------------'\n",
    "print 'PERCENTAGES'\n",
    "p1 = data['co2emissions'].value_counts(sort=False, normalize=True)\n",
    "print (p1)\n",
    "print '-x-x-x-x-x-x-x-x-x-x-x-x-x-x-x-x-x-'\n"
   ]
  },
  {
   "cell_type": "code",
   "execution_count": 125,
   "metadata": {
    "collapsed": false
   },
   "outputs": [
    {
     "data": {
      "text/plain": [
       "<matplotlib.text.Text at 0x7f0d1c511f50>"
      ]
     },
     "execution_count": 125,
     "metadata": {},
     "output_type": "execute_result"
    },
    {
     "data": {
      "image/png": "[encoded data removed]",
      "text/plain": [
       "<matplotlib.figure.Figure at 0x7f0d1d936f50>"
      ]
     },
     "metadata": {},
     "output_type": "display_data"
    }
   ],
   "source": [
    "ax=data['employrate'].plot(kind='hist',bins=200)\n",
    "ax.set_xlabel(\"Employment rate\")\n",
    "ax.set_ylabel(\"Frequency\")"
   ]
  },
  {
   "cell_type": "code",
   "execution_count": 137,
   "metadata": {
    "collapsed": false
   },
   "outputs": [
    {
     "name": "stdout",
     "output_type": "stream",
     "text": [
      "2007 total employees age 15+ (% of population)\n",
      "Overall statistical charecterstics\n",
      "----------------------------------\n",
      "count    213.000000\n",
      "mean      49.000939\n",
      "std       23.806335\n",
      "min        0.000000\n",
      "25%       44.799999\n",
      "50%       56.400002\n",
      "75%       63.700001\n",
      "max       83.199997\n",
      "Name: employrate, dtype: float64\n",
      "-x-x-x-x-x-x-x-x-x-x-x-x-x-x-x-x-x-\n",
      "COUNTS\n",
      "50.500000     1\n",
      "0.000000     35\n",
      "61.500000     3\n",
      "64.500000     1\n",
      "63.500000     1\n",
      "56.500000     1\n",
      "53.500000     3\n",
      "81.500000     1\n",
      "60.500000     1\n",
      "42.500000     1\n",
      "54.500000     2\n",
      "38.900002     1\n",
      "49.500000     1\n",
      "52.500000     1\n",
      "58.500000     1\n",
      "57.500000     2\n",
      "49.599998     1\n",
      "46.799999     1\n",
      "60.700001     1\n",
      "56.400002     1\n",
      "65.699997     1\n",
      "55.099998     1\n",
      "51.400002     1\n",
      "70.400002     2\n",
      "58.799999     2\n",
      "63.700001     1\n",
      "78.199997     2\n",
      "50.700001     1\n",
      "39.000000     1\n",
      "42.000000     1\n",
      "             ..\n",
      "44.200001     1\n",
      "73.599998     1\n",
      "74.699997     1\n",
      "64.900002     1\n",
      "46.400002     1\n",
      "66.800003     1\n",
      "58.599998     1\n",
      "47.299999     3\n",
      "45.700001     1\n",
      "59.900002     3\n",
      "63.900002     1\n",
      "56.299999     2\n",
      "75.699997     1\n",
      "65.900002     1\n",
      "75.199997     1\n",
      "73.099998     1\n",
      "60.900002     1\n",
      "64.300003     1\n",
      "66.199997     1\n",
      "52.700001     1\n",
      "46.200001     1\n",
      "64.599998     1\n",
      "61.299999     1\n",
      "73.199997     1\n",
      "53.400002     2\n",
      "68.300003     1\n",
      "68.900002     1\n",
      "41.099998     1\n",
      "44.299999     1\n",
      "37.400002     1\n",
      "dtype: int64\n",
      "----------------------------------\n",
      "PERCENTAGES\n",
      "50.500000    0.004695\n",
      "0.000000     0.164319\n",
      "61.500000    0.014085\n",
      "64.500000    0.004695\n",
      "63.500000    0.004695\n",
      "56.500000    0.004695\n",
      "53.500000    0.014085\n",
      "81.500000    0.004695\n",
      "60.500000    0.004695\n",
      "42.500000    0.004695\n",
      "54.500000    0.009390\n",
      "38.900002    0.004695\n",
      "49.500000    0.004695\n",
      "52.500000    0.004695\n",
      "58.500000    0.004695\n",
      "57.500000    0.009390\n",
      "49.599998    0.004695\n",
      "46.799999    0.004695\n",
      "60.700001    0.004695\n",
      "56.400002    0.004695\n",
      "65.699997    0.004695\n",
      "55.099998    0.004695\n",
      "51.400002    0.004695\n",
      "70.400002    0.009390\n",
      "58.799999    0.009390\n",
      "63.700001    0.004695\n",
      "78.199997    0.009390\n",
      "50.700001    0.004695\n",
      "39.000000    0.004695\n",
      "42.000000    0.004695\n",
      "               ...   \n",
      "44.200001    0.004695\n",
      "73.599998    0.004695\n",
      "74.699997    0.004695\n",
      "64.900002    0.004695\n",
      "46.400002    0.004695\n",
      "66.800003    0.004695\n",
      "58.599998    0.004695\n",
      "47.299999    0.014085\n",
      "45.700001    0.004695\n",
      "59.900002    0.014085\n",
      "63.900002    0.004695\n",
      "56.299999    0.009390\n",
      "75.699997    0.004695\n",
      "65.900002    0.004695\n",
      "75.199997    0.004695\n",
      "73.099998    0.004695\n",
      "60.900002    0.004695\n",
      "64.300003    0.004695\n",
      "66.199997    0.004695\n",
      "52.700001    0.004695\n",
      "46.200001    0.004695\n",
      "64.599998    0.004695\n",
      "61.299999    0.004695\n",
      "73.199997    0.004695\n",
      "53.400002    0.009390\n",
      "68.300003    0.004695\n",
      "68.900002    0.004695\n",
      "41.099998    0.004695\n",
      "44.299999    0.004695\n",
      "37.400002    0.004695\n",
      "dtype: float64\n",
      "-x-x-x-x-x-x-x-x-x-x-x-x-x-x-x-x-x-\n"
     ]
    }
   ],
   "source": [
    "print '2007 total employees age 15+ (% of population)'\n",
    "print 'Overall statistical charecterstics'\n",
    "print '----------------------------------'\n",
    "print data['employrate'].describe()\n",
    "print '-x-x-x-x-x-x-x-x-x-x-x-x-x-x-x-x-x-'\n",
    "print 'COUNTS'\n",
    "c1 = data['employrate'].value_counts(sort=False)\n",
    "print (c1)\n",
    "print '----------------------------------'\n",
    "print 'PERCENTAGES'\n",
    "p1 = data['employrate'].value_counts(sort=False, normalize=True)\n",
    "print (p1)\n",
    "print '-x-x-x-x-x-x-x-x-x-x-x-x-x-x-x-x-x-'\n"
   ]
  },
  {
   "cell_type": "code",
   "execution_count": 134,
   "metadata": {
    "collapsed": false
   },
   "outputs": [
    {
     "data": {
      "text/plain": [
       "<matplotlib.text.Text at 0x7f0d14651590>"
      ]
     },
     "execution_count": 134,
     "metadata": {},
     "output_type": "execute_result"
    },
    {
     "data": {
      "image/png": "[encoded data removed]",
      "text/plain": [
       "<matplotlib.figure.Figure at 0x7f0d1487dc90>"
      ]
     },
     "metadata": {},
     "output_type": "display_data"
    }
   ],
   "source": [
    "ax=data['suicideper100th'].plot(kind='hist',bins=200)\n",
    "ax.set_xlabel(\"suicideper100th\")\n",
    "ax.set_ylabel(\"Frequency\")"
   ]
  },
  {
   "cell_type": "code",
   "execution_count": 138,
   "metadata": {
    "collapsed": false,
    "scrolled": true
   },
   "outputs": [
    {
     "name": "stdout",
     "output_type": "stream",
     "text": [
      "2005 Suicide, age adjusted, per 100 000 Mortality due to self-inflicted injury,\n",
      "per 100 000 standard population, age adjusted\n",
      "Overall statistical charecterstics\n",
      "----------------------------------\n",
      "count    213.000000\n",
      "mean       8.645072\n",
      "std        6.649987\n",
      "min        0.000000\n",
      "25%        4.373365\n",
      "50%        7.765584\n",
      "75%       11.980497\n",
      "max       35.752872\n",
      "Name: suicideper100th, dtype: float64\n",
      "-x-x-x-x-x-x-x-x-x-x-x-x-x-x-x-x-x-\n",
      "COUNTS\n",
      "6.684385      1\n",
      "0.000000     22\n",
      "7.765584      1\n",
      "15.542603     1\n",
      "6.519537      1\n",
      "7.563692      1\n",
      "7.184853      1\n",
      "6.597168      1\n",
      "11.151073     1\n",
      "4.762270      1\n",
      "13.094370     1\n",
      "3.576478      1\n",
      "6.105282      1\n",
      "15.538490     1\n",
      "14.091530     1\n",
      "10.937718     1\n",
      "1.380965      1\n",
      "10.823000     1\n",
      "13.905267     1\n",
      "13.089616     1\n",
      "9.927033      1\n",
      "15.953850     1\n",
      "13.716340     1\n",
      "9.633115      1\n",
      "15.714571     1\n",
      "12.872222     1\n",
      "1.370002      1\n",
      "4.751084      1\n",
      "5.554276      1\n",
      "7.304886      1\n",
      "             ..\n",
      "8.164005      1\n",
      "26.219198     1\n",
      "14.537270     1\n",
      "1.392951      1\n",
      "20.369590     1\n",
      "5.213720      1\n",
      "7.745065      1\n",
      "8.211067      1\n",
      "4.119620      1\n",
      "4.777007      1\n",
      "1.658908      1\n",
      "3.374416      1\n",
      "4.288574      1\n",
      "1.922485      1\n",
      "13.239810     1\n",
      "7.699330      1\n",
      "4.527852      1\n",
      "6.369888      1\n",
      "6.265789      1\n",
      "8.262893      1\n",
      "9.257976      1\n",
      "20.162010     1\n",
      "14.547167     1\n",
      "8.210948      1\n",
      "14.554677     1\n",
      "7.214221      1\n",
      "8.081540      1\n",
      "6.087671      1\n",
      "22.404560     1\n",
      "5.362179      1\n",
      "dtype: int64\n",
      "----------------------------------\n",
      "PERCENTAGES\n",
      "6.684385     0.004695\n",
      "0.000000     0.103286\n",
      "7.765584     0.004695\n",
      "15.542603    0.004695\n",
      "6.519537     0.004695\n",
      "7.563692     0.004695\n",
      "7.184853     0.004695\n",
      "6.597168     0.004695\n",
      "11.151073    0.004695\n",
      "4.762270     0.004695\n",
      "13.094370    0.004695\n",
      "3.576478     0.004695\n",
      "6.105282     0.004695\n",
      "15.538490    0.004695\n",
      "14.091530    0.004695\n",
      "10.937718    0.004695\n",
      "1.380965     0.004695\n",
      "10.823000    0.004695\n",
      "13.905267    0.004695\n",
      "13.089616    0.004695\n",
      "9.927033     0.004695\n",
      "15.953850    0.004695\n",
      "13.716340    0.004695\n",
      "9.633115     0.004695\n",
      "15.714571    0.004695\n",
      "12.872222    0.004695\n",
      "1.370002     0.004695\n",
      "4.751084     0.004695\n",
      "5.554276     0.004695\n",
      "7.304886     0.004695\n",
      "               ...   \n",
      "8.164005     0.004695\n",
      "26.219198    0.004695\n",
      "14.537270    0.004695\n",
      "1.392951     0.004695\n",
      "20.369590    0.004695\n",
      "5.213720     0.004695\n",
      "7.745065     0.004695\n",
      "8.211067     0.004695\n",
      "4.119620     0.004695\n",
      "4.777007     0.004695\n",
      "1.658908     0.004695\n",
      "3.374416     0.004695\n",
      "4.288574     0.004695\n",
      "1.922485     0.004695\n",
      "13.239810    0.004695\n",
      "7.699330     0.004695\n",
      "4.527852     0.004695\n",
      "6.369888     0.004695\n",
      "6.265789     0.004695\n",
      "8.262893     0.004695\n",
      "9.257976     0.004695\n",
      "20.162010    0.004695\n",
      "14.547167    0.004695\n",
      "8.210948     0.004695\n",
      "14.554677    0.004695\n",
      "7.214221     0.004695\n",
      "8.081540     0.004695\n",
      "6.087671     0.004695\n",
      "22.404560    0.004695\n",
      "5.362179     0.004695\n",
      "dtype: float64\n",
      "-x-x-x-x-x-x-x-x-x-x-x-x-x-x-x-x-x-\n"
     ]
    }
   ],
   "source": [
    "print '2005 Suicide, age adjusted, per 100 000 Mortality due to self-inflicted injury,'\n",
    "print 'per 100 000 standard population, age adjusted'\n",
    "print 'Overall statistical charecterstics'\n",
    "print '----------------------------------'\n",
    "print data['suicideper100th'].describe()\n",
    "print '-x-x-x-x-x-x-x-x-x-x-x-x-x-x-x-x-x-'\n",
    "print 'COUNTS'\n",
    "c1 = data['suicideper100th'].value_counts(sort=False)\n",
    "print (c1)\n",
    "print '----------------------------------'\n",
    "print 'PERCENTAGES'\n",
    "p1 = data['suicideper100th'].value_counts(sort=False, normalize=True)\n",
    "print (p1)\n",
    "print '-x-x-x-x-x-x-x-x-x-x-x-x-x-x-x-x-x-'\n"
   ]
  },
  {
   "cell_type": "code",
   "execution_count": 133,
   "metadata": {
    "collapsed": false
   },
   "outputs": [
    {
     "data": {
      "text/plain": [
       "<matplotlib.text.Text at 0x7f0d14d58f90>"
      ]
     },
     "execution_count": 133,
     "metadata": {},
     "output_type": "execute_result"
    },
    {
     "data": {
      "image/png": "[encoded data removed]",
      "text/plain": [
       "<matplotlib.figure.Figure at 0x7f0d149057d0>"
      ]
     },
     "metadata": {},
     "output_type": "display_data"
    }
   ],
   "source": [
    "ax=data['polityscore'].plot(kind='hist',bins=200)\n",
    "ax.set_xlabel(\"Polity Score\")\n",
    "ax.set_ylabel(\"Frequency\")"
   ]
  },
  {
   "cell_type": "code",
   "execution_count": 140,
   "metadata": {
    "collapsed": false
   },
   "outputs": [
    {
     "name": "stdout",
     "output_type": "stream",
     "text": [
      "Polityscore 2009 Democracy score (Polity)\n",
      "Overall statistical charecterstics\n",
      "----------------------------------\n",
      "count    213.000000\n",
      "mean       2.788732\n",
      "std        5.711414\n",
      "min      -10.000000\n",
      "25%        0.000000\n",
      "50%        1.000000\n",
      "75%        8.000000\n",
      "max       10.000000\n",
      "Name: polityscore, dtype: float64\n",
      "-x-x-x-x-x-x-x-x-x-x-x-x-x-x-x-x-x-\n",
      "COUNTS\n",
      " 0     58\n",
      " 1      3\n",
      " 2      3\n",
      " 3      2\n",
      " 4      4\n",
      " 5      7\n",
      " 6     10\n",
      " 7     13\n",
      " 8     19\n",
      " 9     15\n",
      " 10    33\n",
      "-1      4\n",
      "-10     2\n",
      "-9      4\n",
      "-8      2\n",
      "-7     12\n",
      "-6      3\n",
      "-5      2\n",
      "-4      6\n",
      "-3      6\n",
      "-2      5\n",
      "dtype: int64\n",
      "----------------------------------\n",
      "PERCENTAGES\n",
      " 0     0.272300\n",
      " 1     0.014085\n",
      " 2     0.014085\n",
      " 3     0.009390\n",
      " 4     0.018779\n",
      " 5     0.032864\n",
      " 6     0.046948\n",
      " 7     0.061033\n",
      " 8     0.089202\n",
      " 9     0.070423\n",
      " 10    0.154930\n",
      "-1     0.018779\n",
      "-10    0.009390\n",
      "-9     0.018779\n",
      "-8     0.009390\n",
      "-7     0.056338\n",
      "-6     0.014085\n",
      "-5     0.009390\n",
      "-4     0.028169\n",
      "-3     0.028169\n",
      "-2     0.023474\n",
      "dtype: float64\n",
      "-x-x-x-x-x-x-x-x-x-x-x-x-x-x-x-x-x-\n"
     ]
    }
   ],
   "source": [
    "print 'Polityscore 2009 Democracy score (Polity)'\n",
    "print 'Overall statistical charecterstics'\n",
    "print '----------------------------------'\n",
    "print data['polityscore'].describe()\n",
    "print '-x-x-x-x-x-x-x-x-x-x-x-x-x-x-x-x-x-'\n",
    "print 'COUNTS'\n",
    "c1 = data['polityscore'].value_counts(sort=False)\n",
    "print (c1)\n",
    "print '----------------------------------'\n",
    "print 'PERCENTAGES'\n",
    "p1 = data['polityscore'].value_counts(sort=False, normalize=True)\n",
    "print (p1)\n",
    "print '-x-x-x-x-x-x-x-x-x-x-x-x-x-x-x-x-x-'\n"
   ]
  },
  {
   "cell_type": "code",
   "execution_count": 128,
   "metadata": {
    "collapsed": false
   },
   "outputs": [
    {
     "data": {
      "text/plain": [
       "<matplotlib.text.Text at 0x7f0d16400ad0>"
      ]
     },
     "execution_count": 128,
     "metadata": {},
     "output_type": "execute_result"
    },
    {
     "data": {
      "image/png": "[encoded data removed]",
      "text/plain": [
       "<matplotlib.figure.Figure at 0x7f0d175e8910>"
      ]
     },
     "metadata": {},
     "output_type": "display_data"
    }
   ],
   "source": [
    "ax=data['lifeexpectancy'].plot(kind='hist',bins=200)\n",
    "ax.set_xlabel(\"Life expectancy\")\n",
    "ax.set_ylabel(\"Frequency\")"
   ]
  },
  {
   "cell_type": "code",
   "execution_count": 141,
   "metadata": {
    "collapsed": false
   },
   "outputs": [
    {
     "name": "stdout",
     "output_type": "stream",
     "text": [
      "2011 life expectancy at birth (years)\n",
      "Overall statistical charecterstics\n",
      "----------------------------------\n",
      "count    213.000000\n",
      "mean      62.548934\n",
      "std       23.178458\n",
      "min        0.000000\n",
      "25%       57.379000\n",
      "50%       72.231000\n",
      "75%       76.072000\n",
      "max       83.394000\n",
      "Name: lifeexpectancy, dtype: float64\n",
      "-x-x-x-x-x-x-x-x-x-x-x-x-x-x-x-x-x-\n",
      "COUNTS\n",
      "0.000     22\n",
      "63.125     1\n",
      "50.411     1\n",
      "75.181     1\n",
      "58.582     1\n",
      "72.231     1\n",
      "69.366     1\n",
      "73.737     1\n",
      "76.640     1\n",
      "76.918     1\n",
      "70.739     1\n",
      "72.196     1\n",
      "56.081     1\n",
      "70.349     1\n",
      "73.127     1\n",
      "75.850     1\n",
      "51.384     1\n",
      "74.241     1\n",
      "76.142     1\n",
      "61.452     1\n",
      "75.670     1\n",
      "74.573     1\n",
      "72.477     1\n",
      "68.944     1\n",
      "80.170     1\n",
      "55.377     1\n",
      "81.907     1\n",
      "74.402     1\n",
      "67.185     1\n",
      "74.641     1\n",
      "          ..\n",
      "52.797     1\n",
      "62.095     1\n",
      "67.714     1\n",
      "59.318     1\n",
      "73.371     1\n",
      "79.158     1\n",
      "69.927     1\n",
      "74.221     1\n",
      "82.338     1\n",
      "72.150     1\n",
      "72.444     1\n",
      "67.529     1\n",
      "80.414     1\n",
      "69.317     1\n",
      "79.341     1\n",
      "51.610     1\n",
      "74.515     1\n",
      "77.685     1\n",
      "65.193     1\n",
      "75.901     1\n",
      "62.475     1\n",
      "81.804     1\n",
      "62.791     1\n",
      "73.235     1\n",
      "73.403     1\n",
      "64.666     1\n",
      "61.597     1\n",
      "73.911     1\n",
      "74.847     1\n",
      "51.444     1\n",
      "dtype: int64\n",
      "----------------------------------\n",
      "PERCENTAGES\n",
      "0.000     0.103286\n",
      "63.125    0.004695\n",
      "50.411    0.004695\n",
      "75.181    0.004695\n",
      "58.582    0.004695\n",
      "72.231    0.004695\n",
      "69.366    0.004695\n",
      "73.737    0.004695\n",
      "76.640    0.004695\n",
      "76.918    0.004695\n",
      "70.739    0.004695\n",
      "72.196    0.004695\n",
      "56.081    0.004695\n",
      "70.349    0.004695\n",
      "73.127    0.004695\n",
      "75.850    0.004695\n",
      "51.384    0.004695\n",
      "74.241    0.004695\n",
      "76.142    0.004695\n",
      "61.452    0.004695\n",
      "75.670    0.004695\n",
      "74.573    0.004695\n",
      "72.477    0.004695\n",
      "68.944    0.004695\n",
      "80.170    0.004695\n",
      "55.377    0.004695\n",
      "81.907    0.004695\n",
      "74.402    0.004695\n",
      "67.185    0.004695\n",
      "74.641    0.004695\n",
      "            ...   \n",
      "52.797    0.004695\n",
      "62.095    0.004695\n",
      "67.714    0.004695\n",
      "59.318    0.004695\n",
      "73.371    0.004695\n",
      "79.158    0.004695\n",
      "69.927    0.004695\n",
      "74.221    0.004695\n",
      "82.338    0.004695\n",
      "72.150    0.004695\n",
      "72.444    0.004695\n",
      "67.529    0.004695\n",
      "80.414    0.004695\n",
      "69.317    0.004695\n",
      "79.341    0.004695\n",
      "51.610    0.004695\n",
      "74.515    0.004695\n",
      "77.685    0.004695\n",
      "65.193    0.004695\n",
      "75.901    0.004695\n",
      "62.475    0.004695\n",
      "81.804    0.004695\n",
      "62.791    0.004695\n",
      "73.235    0.004695\n",
      "73.403    0.004695\n",
      "64.666    0.004695\n",
      "61.597    0.004695\n",
      "73.911    0.004695\n",
      "74.847    0.004695\n",
      "51.444    0.004695\n",
      "dtype: float64\n",
      "-x-x-x-x-x-x-x-x-x-x-x-x-x-x-x-x-x-\n"
     ]
    }
   ],
   "source": [
    "print '2011 life expectancy at birth (years)'\n",
    "print 'Overall statistical charecterstics'\n",
    "print '----------------------------------'\n",
    "print data['lifeexpectancy'].describe()\n",
    "print '-x-x-x-x-x-x-x-x-x-x-x-x-x-x-x-x-x-'\n",
    "print 'COUNTS'\n",
    "c1 = data['lifeexpectancy'].value_counts(sort=False)\n",
    "print (c1)\n",
    "print '----------------------------------'\n",
    "print 'PERCENTAGES'\n",
    "p1 = data['lifeexpectancy'].value_counts(sort=False, normalize=True)\n",
    "print (p1)\n",
    "print '-x-x-x-x-x-x-x-x-x-x-x-x-x-x-x-x-x-'\n"
   ]
  },
  {
   "cell_type": "code",
   "execution_count": 149,
   "metadata": {
    "collapsed": false
   },
   "outputs": [
    {
     "data": {
      "text/plain": [
       "'Moldova'"
      ]
     },
     "execution_count": 149,
     "metadata": {},
     "output_type": "execute_result"
    }
   ],
   "source": [
    "data['country'][126]"
   ]
  },
  {
   "cell_type": "code",
   "execution_count": 144,
   "metadata": {
    "collapsed": false
   },
   "outputs": [
    {
     "name": "stdout",
     "output_type": "stream",
     "text": [
      "126\n"
     ]
    }
   ],
   "source": [
    "for i in range(0,213):\n",
    "    if data['alcconsumption'][i]==23.010000000000002:\n",
    "        print i"
   ]
  },
  {
   "cell_type": "code",
   "execution_count": null,
   "metadata": {
    "collapsed": true
   },
   "outputs": [],
   "source": []
  }
 ],
 "metadata": {
  "kernelspec": {
   "display_name": "Python 2",
   "language": "python",
   "name": "python2"
  },
  "language_info": {
   "codemirror_mode": {
    "name": "ipython",
    "version": 2
   },
   "file_extension": ".py",
   "mimetype": "text/x-python",
   "name": "python",
   "nbconvert_exporter": "python",
   "pygments_lexer": "ipython2",
   "version": "2.7.10"
  }
 },
 "nbformat": 4,
 "nbformat_minor": 0
}
