{
 "cells": [
  {
   "cell_type": "code",
   "execution_count": 23,
   "metadata": {
    "collapsed": false
   },
   "outputs": [],
   "source": [
    "import pandas as pd\n",
    "import numpy as np\n",
    "import matplotlib\n",
    "%matplotlib inline\n",
    "matplotlib.style.use('ggplot')"
   ]
  },
  {
   "cell_type": "code",
   "execution_count": 7,
   "metadata": {
    "collapsed": true
   },
   "outputs": [],
   "source": [
    "data = pd.read_csv('gapminder.csv', low_memory=False)"
   ]
  },
  {
   "cell_type": "code",
   "execution_count": 8,
   "metadata": {
    "collapsed": false
   },
   "outputs": [
    {
     "name": "stdout",
     "output_type": "stream",
     "text": [
      "213\n",
      "16\n"
     ]
    }
   ],
   "source": [
    "print (len(data)) #number of observations (rows)\n",
    "print (len(data.columns)) # number of variables (columns)"
   ]
  },
  {
   "cell_type": "code",
   "execution_count": 9,
   "metadata": {
    "collapsed": true
   },
   "outputs": [],
   "source": [
    "#setting variables I will be working with to numeric\n",
    "data['incomeperperson'] = data['incomeperperson'].convert_objects(convert_numeric=True)\n",
    "data['alcconsumption'] = data['alcconsumption'].convert_objects(convert_numeric=True)\n",
    "data['co2emissions'] = data['co2emissions'].convert_objects(convert_numeric=True)\n",
    "data['employrate'] = data['employrate'].convert_objects(convert_numeric=True)\n",
    "data['suicideper100th'] = data['suicideper100th'].convert_objects(convert_numeric=True)\n",
    "data['polityscore'] = data['polityscore'].convert_objects(convert_numeric=True)\n",
    "data['lifeexpectancy'] = data['lifeexpectancy'].convert_objects(convert_numeric=True)"
   ]
  },
  {
   "cell_type": "code",
   "execution_count": 10,
   "metadata": {
    "collapsed": true
   },
   "outputs": [],
   "source": [
    "#Handling Missing Data\n",
    "#In order to handle missing data such NaN or or a blank entry,I am coding in with 0\n",
    "#The applymap function applies a function to every cell of the dataframe,and wherever there is a blank entry\n",
    "#(i.e a missing entry),it fills it with NaN value.After that,fillna code in all NaN values with zero\n",
    "data = data.applymap(lambda x: np.nan if isinstance(x, basestring) and x.isspace() else x) \n",
    "data=data.fillna(0)"
   ]
  },
  {
   "cell_type": "code",
   "execution_count": 24,
   "metadata": {
    "collapsed": false
   },
   "outputs": [
    {
     "data": {
      "text/plain": [
       "<matplotlib.axes._subplots.AxesSubplot at 0x7fc1876459d0>"
      ]
     },
     "execution_count": 24,
     "metadata": {},
     "output_type": "execute_result"
    },
    {
     "data": {
      "image/png": "[encoded data removed]",
      "text/plain": [
       "<matplotlib.figure.Figure at 0x7fc1875d6110>"
      ]
     },
     "metadata": {},
     "output_type": "display_data"
    }
   ],
   "source": [
    "data['polityscore'].plot(kind='hist')"
   ]
  },
  {
   "cell_type": "code",
   "execution_count": 25,
   "metadata": {
    "collapsed": false
   },
   "outputs": [],
   "source": [
    "#recoding the values of polity score on a scale of 1 to 10(for e.g. \n",
    "#replacing -10 with 0,-9 with 0.5,-8 with 1 ...and so on)\n",
    "recode1 = {-10:0,-9:0.5,-8:1,-7:1.5,-6:2,-5:2.5,-4:3,-3:3.5,-2:4,-1:4.5,0:5,1:5.5,2:6,3:6.5,4:7,5:7.5,6:8,7:8.5,8:9,9:9.5,10:10}\n",
    "data['polityscore']= data['polityscore'].map(recode1)"
   ]
  },
  {
   "cell_type": "code",
   "execution_count": 28,
   "metadata": {
    "collapsed": false
   },
   "outputs": [],
   "source": [
    "#upon closely observing the above data,we can see that there is possibility to\n",
    "#obtain a secondary variable by grouping together breastcancerper100th and hivrate.\n",
    "#Hence,creating a secondary variable from this two primary variables called criticalhealthrate(chthrate).\n",
    "data['breastcancerper100th'] = data['breastcancerper100th'].convert_objects(convert_numeric=True)\n",
    "data['hivrate'] = data['hivrate'].convert_objects(convert_numeric=True)\n",
    "data['chthrate']=data['breastcancerper100th']+data['hivrate']"
   ]
  },
  {
   "cell_type": "code",
   "execution_count": 29,
   "metadata": {
    "collapsed": false
   },
   "outputs": [],
   "source": [
    "#HOwever,there is no need for binning any of the variables,as they are \n",
    "#already numeric and hence it would be much easier to perform machine learning on numeric values of these variables."
   ]
  },
  {
   "cell_type": "code",
   "execution_count": 31,
   "metadata": {
    "collapsed": false
   },
   "outputs": [
    {
     "data": {
      "text/plain": [
       "count    213.000000\n",
       "mean      31.714601\n",
       "std       25.045294\n",
       "min        0.000000\n",
       "25%       17.300000\n",
       "50%       26.700000\n",
       "75%       46.300000\n",
       "max      101.700000\n",
       "Name: chthrate, dtype: float64"
      ]
     },
     "execution_count": 31,
     "metadata": {},
     "output_type": "execute_result"
    }
   ],
   "source": [
    "data['chthrate'].describe()"
   ]
  },
  {
   "cell_type": "code",
   "execution_count": null,
   "metadata": {
    "collapsed": false
   },
   "outputs": [],
   "source": []
  },
  {
   "cell_type": "code",
   "execution_count": null,
   "metadata": {
    "collapsed": true
   },
   "outputs": [],
   "source": []
  }
 ],
 "metadata": {
  "kernelspec": {
   "display_name": "Python 2",
   "language": "python",
   "name": "python2"
  },
  "language_info": {
   "codemirror_mode": {
    "name": "ipython",
    "version": 2
   },
   "file_extension": ".py",
   "mimetype": "text/x-python",
   "name": "python",
   "nbconvert_exporter": "python",
   "pygments_lexer": "ipython2",
   "version": "2.7.10"
  }
 },
 "nbformat": 4,
 "nbformat_minor": 0
}
